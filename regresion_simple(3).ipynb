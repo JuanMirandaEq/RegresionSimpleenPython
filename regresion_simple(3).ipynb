{
 "cells": [
  {
   "cell_type": "markdown",
   "id": "aa0c3486",
   "metadata": {},
   "source": [
    "# Regresión Simple en Python"
   ]
  },
  {
   "cell_type": "markdown",
   "id": "5442cd72",
   "metadata": {},
   "source": [
    "### 1. Cargar los datos"
   ]
  },
  {
   "cell_type": "code",
   "execution_count": 6,
   "id": "77332cf2",
   "metadata": {},
   "outputs": [],
   "source": [
    "#Importo la librería pandas\n",
    "import pandas as pd"
   ]
  },
  {
   "cell_type": "code",
   "execution_count": 7,
   "id": "9bd15e4f",
   "metadata": {},
   "outputs": [],
   "source": [
    "# Importo la libreria pydataset que contiene tablas de datos\n",
    "import pydataset\n",
    "# Importo la tabla denominada agefat que incluye información \n",
    "# sobre la edad y porcentaje de grasa corporal de una muestra\n",
    "# de participantes\n",
    "composition=pydataset.data('agefat')"
   ]
  },
  {
   "cell_type": "code",
   "execution_count": 8,
   "id": "62d5dc9a",
   "metadata": {},
   "outputs": [
    {
     "name": "stdout",
     "output_type": "stream",
     "text": [
      "agefat\n",
      "\n",
      "PyDataset Documentation (adopted from R Documentation. The displayed examples are in R)\n",
      "\n",
      "##  Total Body Composision Data\n",
      "\n",
      "### Description\n",
      "\n",
      "Age and body fat percentage of 25 normal adults.\n",
      "\n",
      "### Usage\n",
      "\n",
      "    data(\"agefat\")\n",
      "\n",
      "### Format\n",
      "\n",
      "A data frame with 25 observations on the following 3 variables.\n",
      "\n",
      "`age`\n",
      "\n",
      "the age of the subject.\n",
      "\n",
      "`fat`\n",
      "\n",
      "the body fat percentage.\n",
      "\n",
      "`sex`\n",
      "\n",
      "a factor with levels `female` and `male`.\n",
      "\n",
      "### Details\n",
      "\n",
      "The data come from a study investigating a new methods of measuring body\n",
      "composition (see Mazess et al, 1984), and give the body fat percentage\n",
      "(percent fat), age and sex for 25 normal adults aged between 23 and 61 years.\n",
      "The questions of interest are how are age and percent fat related, and is\n",
      "there any evidence that the relationship is different for males and females.\n",
      "\n",
      "### Source\n",
      "\n",
      "R. B. Mazess, W. W. Peppler and M. Gibbons (1984), Total body composition by\n",
      "dual-photon (153Gd) absorptiometry. _American Journal of Clinical Nutrition_,\n",
      "**40**, 834–839.\n",
      "\n",
      "### Examples\n",
      "\n",
      "      data(\"agefat\", package = \"HSAUR\")\n",
      "      plot(fat ~ age, data = agefat)\n",
      "\n",
      "\n"
     ]
    }
   ],
   "source": [
    "# Se puede conocer información detallada de la tabla de datos con el siguiente código\n",
    "pydataset.data('agefat',show_doc=True)"
   ]
  },
  {
   "cell_type": "markdown",
   "id": "a1888e9b",
   "metadata": {},
   "source": [
    "### 2. Preparando la tabla de datos"
   ]
  },
  {
   "cell_type": "code",
   "execution_count": 9,
   "id": "4ef8388d",
   "metadata": {},
   "outputs": [
    {
     "data": {
      "text/html": [
       "<div>\n",
       "<style scoped>\n",
       "    .dataframe tbody tr th:only-of-type {\n",
       "        vertical-align: middle;\n",
       "    }\n",
       "\n",
       "    .dataframe tbody tr th {\n",
       "        vertical-align: top;\n",
       "    }\n",
       "\n",
       "    .dataframe thead th {\n",
       "        text-align: right;\n",
       "    }\n",
       "</style>\n",
       "<table border=\"1\" class=\"dataframe\">\n",
       "  <thead>\n",
       "    <tr style=\"text-align: right;\">\n",
       "      <th></th>\n",
       "      <th>age</th>\n",
       "      <th>fat</th>\n",
       "      <th>sex</th>\n",
       "    </tr>\n",
       "  </thead>\n",
       "  <tbody>\n",
       "    <tr>\n",
       "      <th>1</th>\n",
       "      <td>24</td>\n",
       "      <td>15.5</td>\n",
       "      <td>male</td>\n",
       "    </tr>\n",
       "    <tr>\n",
       "      <th>2</th>\n",
       "      <td>37</td>\n",
       "      <td>20.9</td>\n",
       "      <td>male</td>\n",
       "    </tr>\n",
       "    <tr>\n",
       "      <th>3</th>\n",
       "      <td>41</td>\n",
       "      <td>18.6</td>\n",
       "      <td>male</td>\n",
       "    </tr>\n",
       "    <tr>\n",
       "      <th>4</th>\n",
       "      <td>60</td>\n",
       "      <td>28.0</td>\n",
       "      <td>male</td>\n",
       "    </tr>\n",
       "    <tr>\n",
       "      <th>5</th>\n",
       "      <td>31</td>\n",
       "      <td>34.7</td>\n",
       "      <td>female</td>\n",
       "    </tr>\n",
       "  </tbody>\n",
       "</table>\n",
       "</div>"
      ],
      "text/plain": [
       "   age   fat     sex\n",
       "1   24  15.5    male\n",
       "2   37  20.9    male\n",
       "3   41  18.6    male\n",
       "4   60  28.0    male\n",
       "5   31  34.7  female"
      ]
     },
     "execution_count": 9,
     "metadata": {},
     "output_type": "execute_result"
    }
   ],
   "source": [
    "# 2. 1. Identificando las variables en la tabla de datos\n",
    "composition.head()"
   ]
  },
  {
   "cell_type": "code",
   "execution_count": 10,
   "id": "ba3a5f56",
   "metadata": {},
   "outputs": [
    {
     "data": {
      "text/html": [
       "<div>\n",
       "<style scoped>\n",
       "    .dataframe tbody tr th:only-of-type {\n",
       "        vertical-align: middle;\n",
       "    }\n",
       "\n",
       "    .dataframe tbody tr th {\n",
       "        vertical-align: top;\n",
       "    }\n",
       "\n",
       "    .dataframe thead th {\n",
       "        text-align: right;\n",
       "    }\n",
       "</style>\n",
       "<table border=\"1\" class=\"dataframe\">\n",
       "  <thead>\n",
       "    <tr style=\"text-align: right;\">\n",
       "      <th></th>\n",
       "      <th>age</th>\n",
       "      <th>fat</th>\n",
       "    </tr>\n",
       "  </thead>\n",
       "  <tbody>\n",
       "    <tr>\n",
       "      <th>1</th>\n",
       "      <td>24</td>\n",
       "      <td>15.5</td>\n",
       "    </tr>\n",
       "    <tr>\n",
       "      <th>2</th>\n",
       "      <td>37</td>\n",
       "      <td>20.9</td>\n",
       "    </tr>\n",
       "    <tr>\n",
       "      <th>3</th>\n",
       "      <td>41</td>\n",
       "      <td>18.6</td>\n",
       "    </tr>\n",
       "    <tr>\n",
       "      <th>4</th>\n",
       "      <td>60</td>\n",
       "      <td>28.0</td>\n",
       "    </tr>\n",
       "    <tr>\n",
       "      <th>5</th>\n",
       "      <td>31</td>\n",
       "      <td>34.7</td>\n",
       "    </tr>\n",
       "  </tbody>\n",
       "</table>\n",
       "</div>"
      ],
      "text/plain": [
       "   age   fat\n",
       "1   24  15.5\n",
       "2   37  20.9\n",
       "3   41  18.6\n",
       "4   60  28.0\n",
       "5   31  34.7"
      ]
     },
     "execution_count": 10,
     "metadata": {},
     "output_type": "execute_result"
    }
   ],
   "source": [
    "# 2.2. ELiminando columnas innecesarias\n",
    "# Las tablas de datos (data frames) tienen el método drop, para eliminar columnas, el argumento \n",
    "# columns es igual a una cadena (string) con los nombres de las columnas a eliminar.\n",
    "composition.drop(columns='sex',inplace=True)\n",
    "# podemos ver que la columna 'sex'fue eliminada\n",
    "composition.head()"
   ]
  },
  {
   "cell_type": "code",
   "execution_count": 11,
   "id": "6ff24127",
   "metadata": {},
   "outputs": [
    {
     "name": "stdout",
     "output_type": "stream",
     "text": [
      "Columna age:\n",
      "Series([], Name: age, dtype: int64)\n",
      "Columna fat:\n",
      "Series([], Name: fat, dtype: float64)\n"
     ]
    }
   ],
   "source": [
    "# 2.3. Identificando valores perdidos\n",
    "# El método isna() retorna True si un valor de una columna es igual a na\n",
    "# En las dos columnas no existen valores perdidos (na)\n",
    "print('Columna age:')\n",
    "print(composition.age[composition.age.isna()])\n",
    "print('Columna fat:')\n",
    "print(composition.fat[composition.fat.isna()])"
   ]
  },
  {
   "cell_type": "code",
   "execution_count": 31,
   "id": "c97e1ca2",
   "metadata": {},
   "outputs": [
    {
     "data": {
      "text/plain": [
       "Text(0.5, 1.0, 'Boxplot of Fat')"
      ]
     },
     "execution_count": 31,
     "metadata": {},
     "output_type": "execute_result"
    },
    {
     "data": {
      "image/png": "[encoded data removed]",
      "text/plain": [
       "<Figure size 670x200 with 2 Axes>"
      ]
     },
     "metadata": {},
     "output_type": "display_data"
    }
   ],
   "source": [
    "# 2.4. Identificando valores atípicos\n",
    "\n",
    "# para identificar valores atípicos importaremos las librerias seaborn y matplotlib.pyplot\n",
    "import seaborn as sns\n",
    "import matplotlib.pyplot as plt\n",
    "\n",
    "# Se presentan dos formas de identificar valores atípicos una gráfica y otra estadística\n",
    "\n",
    "# 2.4.1 Identificando valores atipicos graficamente\n",
    "\n",
    "# La libreria seaborn ofrece el método boxplot, que devuelve un gráfico de la distribución \n",
    "# de los datos incluyendo la mediana, el primer y tercer cuartiles y los bigotes, los cuales \n",
    "# son límites superior e inferior, iguales a los valores máximo y mínimo sino hay valores \n",
    "# atípicos o valores referenciales para identificar, si hay, valores atípicos. Los valores \n",
    "# sobre o debajo de los bigotes son valores atípicos y son representados con puntos.\n",
    "\n",
    "# Se definen dos sub gráficos, usando la función subplots() \n",
    "fig, axes=plt.subplots(1,2,figsize=(6.7,2))\n",
    "\n",
    "# Grafico dos diagramas de caja, uno para la variable age y otro para la variable fat \n",
    "sns.boxplot(x=composition['age'], color='#C9CC3F',ax=axes[0])\n",
    "sns.boxplot(x=composition['fat'], color='#7EC8E3',ax=axes[1])\n",
    "\n",
    "# Etiquetas de los ejes\n",
    "axes[0].set_xlabel('Age', fontsize = 24) \n",
    "axes[1].set_xlabel('Fat', fontsize = 24)\n",
    "\n",
    "# Marcas de los ejes\n",
    "axes[0].set(xticklabels=[],xticks=[],yticks=[])\n",
    "axes[1].set(xticklabels=[],xticks=[],yticks=[])\n",
    "\n",
    "# Remuevo los bordes del gráfico\n",
    "for i, a in enumerate(axes):\n",
    "    a.spines[\"top\"].set_visible(False)\n",
    "    a.spines[\"right\"].set_visible(False)\n",
    "    a.spines[\"bottom\"].set_visible(False)\n",
    "    a.spines[\"left\"].set_visible(False)\n",
    "    \n",
    "# Agrego texto al diagrama de caja de la variable \"age\"\n",
    "axes[0].text(composition.age.min(),-0.03, str(composition.age.min()),size=12)\n",
    "axes[0].text(composition.age.max(),-0.03, str(composition.age.max()),size=12)\n",
    "axes[0].text(int(composition.age.median()),-0.03, str(int(composition.age.median())),size=12)\n",
    "axes[0].text(composition.age.quantile(q=0.25),-0.03, str(int(composition.age.quantile(q=0.25))),size=12)\n",
    "axes[0].text(composition.age.quantile(q=0.75),-0.03, str(int(composition.age.quantile(q=0.75))),size=12)\n",
    "axes[0].set_title('Boxplot of Age', size=20)\n",
    "\n",
    "# Agrego texto al diagrama de caja de la variable \"fat\"\n",
    "axes[1].text(composition.fat.min(),-0.03,str(int(composition.fat.min())),size=12)\n",
    "axes[1].text(composition.fat.max(),-0.03,str(int(composition.fat.max())),size=12)\n",
    "axes[1].text(int(composition.fat.median()),-0.03,str(int(composition.fat.median())),size=12)\n",
    "axes[1].text(composition.fat.quantile(q=0.25),-0.03,str(int(composition.fat.quantile(q=0.25))),size=12)\n",
    "axes[1].text(composition.fat.quantile(q=0.75),-0.03,str(int(composition.fat.quantile(q=0.75))),size=12)\n",
    "axes[1].set_title('Boxplot of Fat', size=20)\n",
    "    "
   ]
  },
  {
   "cell_type": "code",
   "execution_count": 32,
   "id": "e47b16b9",
   "metadata": {},
   "outputs": [
    {
     "data": {
      "text/plain": [
       "Text(0.5, 1.0, 'Histogram of Fat')"
      ]
     },
     "execution_count": 32,
     "metadata": {},
     "output_type": "execute_result"
    },
    {
     "data": {
      "image/png": "[encoded data removed]",
      "text/plain": [
       "<Figure size 670x200 with 2 Axes>"
      ]
     },
     "metadata": {},
     "output_type": "display_data"
    }
   ],
   "source": [
    "# Histograma\n",
    "\n",
    "# Defino dos sub gráficos, usando la función subplots()\n",
    "fig, axes=plt.subplots(1,2,figsize=(6.7,2), sharey=True)\n",
    "\n",
    "#Grafico dos histogramas, una para la variable age y otro para la variable fat.\n",
    "axes[0].hist(composition['age'],bins=10, color='#C9CC3F')\n",
    "axes[1].hist(composition['fat'],bins=10, color='#7EC8E3')\n",
    "\n",
    "for i, a in enumerate(axes):\n",
    "    # Remuevo el marco del gráfico\n",
    "    a.spines[\"top\"].set_visible(False)\n",
    "    a.spines[\"right\"].set_visible(False)\n",
    "    a.spines[\"bottom\"].set_visible(False)\n",
    "    a.spines[\"left\"].set_visible(False)\n",
    "    # Formato de las marcas de los ejes\n",
    "    a.tick_params(axis='x',labelsize=12,bottom=False)\n",
    "    a.tick_params(axis='y',labelsize=12, left=False)\n",
    "    \n",
    "# Títulos de los histogramas\n",
    "axes[0].set_title('Histogram of Age', size=20)\n",
    "axes[1].set_title('Histogram of Fat', size=20)"
   ]
  },
  {
   "cell_type": "code",
   "execution_count": 33,
   "id": "b2808d2a",
   "metadata": {},
   "outputs": [
    {
     "name": "stdout",
     "output_type": "stream",
     "text": [
      "Primer cuartil: 37.0\n",
      "Segunto cuartil: 57.0\n"
     ]
    }
   ],
   "source": [
    "#2.4.2 Estadísticamente\n",
    "\n",
    "# Rango intercuartílico\n",
    "\n",
    "# El rango intercuartílico - RIC incluye 50% del conjunto de datos \n",
    "# que se encuentra en el medio de la distribución. Esta entre el primer \n",
    "# y tercer cuartil. Este rango es usado para estimar los valores de \n",
    "# referencia inferior y superior. Los valores que caen sobre o debajo \n",
    "# de estos valores de referencia son considerados valores atípicos.\n",
    "\n",
    "# Valores atípicos de la variable \"age\"\n",
    "# Estimo los cuartiles\n",
    "percentile25 = composition['age'].quantile(0.25)\n",
    "print(\"Primer cuartil: {}\".format(percentile25))\n",
    "percentile75 = composition['age'].quantile(0.75)\n",
    "print(\"Segunto cuartil: {}\".format(percentile75))"
   ]
  },
  {
   "cell_type": "code",
   "execution_count": 34,
   "id": "677ba248",
   "metadata": {},
   "outputs": [
    {
     "name": "stdout",
     "output_type": "stream",
     "text": [
      "El rango intercuartílico es: 20.0\n"
     ]
    }
   ],
   "source": [
    "# Se estima el rango intercuartílico:\n",
    "iqr=percentile75-percentile25\n",
    "print(\"El rango intercuartílico es: {}\".format(iqr))"
   ]
  },
  {
   "cell_type": "code",
   "execution_count": 35,
   "id": "7eca0bc4",
   "metadata": {},
   "outputs": [
    {
     "name": "stdout",
     "output_type": "stream",
     "text": [
      "El valor referencial superior es:87.0\n",
      "El valor referencial inferior es:7.0\n"
     ]
    }
   ],
   "source": [
    "# Estimo los valores de referencia superior e inferior\n",
    "upper_limit = percentile75 + 1.5 * iqr\n",
    "lower_limit = percentile25 - 1.5 * iqr\n",
    "print(\"El valor referencial superior es:{}\".format(upper_limit))\n",
    "print(\"El valor referencial inferior es:{}\".format(lower_limit))"
   ]
  },
  {
   "cell_type": "code",
   "execution_count": 36,
   "id": "d75bc8fd",
   "metadata": {},
   "outputs": [
    {
     "name": "stdout",
     "output_type": "stream",
     "text": [
      "Age data series outliers above the upper reference value\n",
      "Series([], Name: age, dtype: int64)\n",
      "Age data series outliers below the lower reference value\n",
      "Series([], Name: age, dtype: int64)\n"
     ]
    }
   ],
   "source": [
    "# Identifico valores atípicos\n",
    "print('Age data series outliers above the upper reference value')\n",
    "print(composition.age[composition['age'] > upper_limit])\n",
    "print('Age data series outliers below the lower reference value')\n",
    "print(composition.age[composition['age'] < lower_limit])"
   ]
  },
  {
   "cell_type": "markdown",
   "id": "20915c05",
   "metadata": {},
   "source": [
    "#### Valores atípicos en la tabla de datos"
   ]
  },
  {
   "cell_type": "code",
   "execution_count": 37,
   "id": "a1e6b7bb",
   "metadata": {},
   "outputs": [
    {
     "name": "stdout",
     "output_type": "stream",
     "text": [
      "Primer cuartil: 21.3\n",
      "Segundo cuartil: 33.0\n"
     ]
    }
   ],
   "source": [
    "# Estimar los cuartiles\n",
    "percentile25 = composition['fat'].quantile(0.25)\n",
    "print(\"Primer cuartil: {}\".format(percentile25))\n",
    "percentile75 = composition['fat'].quantile(0.75)\n",
    "print(\"Segundo cuartil: {}\".format(percentile75))"
   ]
  },
  {
   "cell_type": "code",
   "execution_count": 38,
   "id": "8dd11116",
   "metadata": {},
   "outputs": [
    {
     "name": "stdout",
     "output_type": "stream",
     "text": [
      "El rango intercuartílico es: 11.7\n"
     ]
    }
   ],
   "source": [
    "# Estimar el rango intercuartílico\n",
    "iqr=percentile75-percentile25\n",
    "print(\"El rango intercuartílico es: {}\".format(iqr))"
   ]
  },
  {
   "cell_type": "code",
   "execution_count": 39,
   "id": "71274ef5",
   "metadata": {},
   "outputs": [
    {
     "name": "stdout",
     "output_type": "stream",
     "text": [
      "El valor referencial superior es:50.55\n",
      "El valor referencial inferior es:3.7500000000000036\n"
     ]
    }
   ],
   "source": [
    "# Estimar los valores de referencia superior e inferior.\n",
    "upper_limit = percentile75 + 1.5 * iqr\n",
    "lower_limit = percentile25 - 1.5 * iqr\n",
    "print(\"El valor referencial superior es:{}\".format(upper_limit))\n",
    "print(\"El valor referencial inferior es:{}\".format(lower_limit))"
   ]
  },
  {
   "cell_type": "code",
   "execution_count": 40,
   "id": "737eb9ab",
   "metadata": {},
   "outputs": [
    {
     "name": "stdout",
     "output_type": "stream",
     "text": [
      "Fat data series outliers above the upper reference value\n",
      "Series([], Name: fat, dtype: float64)\n",
      "Fat data series outliers below the lower reference value\n",
      "Series([], Name: fat, dtype: float64)\n"
     ]
    }
   ],
   "source": [
    "# Identificando los valores atípicos.\n",
    "print('Fat data series outliers above the upper reference value')\n",
    "print(composition.fat[composition['fat'] > upper_limit])\n",
    "print('Fat data series outliers below the lower reference value')\n",
    "print(composition.fat[composition['fat'] < lower_limit])"
   ]
  },
  {
   "cell_type": "markdown",
   "id": "3ae79b18",
   "metadata": {},
   "source": [
    "### 3. Analizando la tabla de datos"
   ]
  },
  {
   "cell_type": "code",
   "execution_count": 41,
   "id": "0385936e",
   "metadata": {},
   "outputs": [
    {
     "data": {
      "text/html": [
       "<div>\n",
       "<style scoped>\n",
       "    .dataframe tbody tr th:only-of-type {\n",
       "        vertical-align: middle;\n",
       "    }\n",
       "\n",
       "    .dataframe tbody tr th {\n",
       "        vertical-align: top;\n",
       "    }\n",
       "\n",
       "    .dataframe thead th {\n",
       "        text-align: right;\n",
       "    }\n",
       "</style>\n",
       "<table border=\"1\" class=\"dataframe\">\n",
       "  <thead>\n",
       "    <tr style=\"text-align: right;\">\n",
       "      <th></th>\n",
       "      <th>count</th>\n",
       "      <th>mean</th>\n",
       "      <th>std</th>\n",
       "      <th>min</th>\n",
       "      <th>25%</th>\n",
       "      <th>50%</th>\n",
       "      <th>75%</th>\n",
       "      <th>max</th>\n",
       "    </tr>\n",
       "  </thead>\n",
       "  <tbody>\n",
       "    <tr>\n",
       "      <th>age</th>\n",
       "      <td>25.0</td>\n",
       "      <td>44.96</td>\n",
       "      <td>13.15</td>\n",
       "      <td>23.0</td>\n",
       "      <td>37.0</td>\n",
       "      <td>49.0</td>\n",
       "      <td>57.0</td>\n",
       "      <td>61.0</td>\n",
       "    </tr>\n",
       "    <tr>\n",
       "      <th>fat</th>\n",
       "      <td>25.0</td>\n",
       "      <td>27.37</td>\n",
       "      <td>8.68</td>\n",
       "      <td>7.8</td>\n",
       "      <td>21.3</td>\n",
       "      <td>29.1</td>\n",
       "      <td>33.0</td>\n",
       "      <td>42.0</td>\n",
       "    </tr>\n",
       "  </tbody>\n",
       "</table>\n",
       "</div>"
      ],
      "text/plain": [
       "     count   mean    std   min   25%   50%   75%   max\n",
       "age   25.0  44.96  13.15  23.0  37.0  49.0  57.0  61.0\n",
       "fat   25.0  27.37   8.68   7.8  21.3  29.1  33.0  42.0"
      ]
     },
     "execution_count": 41,
     "metadata": {},
     "output_type": "execute_result"
    }
   ],
   "source": [
    "# 3.1. Estadística descriptiva\n",
    "\n",
    "# Para analizar los datos utilizamos la media, desviación estándar, mínimo y máximo.\n",
    "composition.describe().transpose().round(2)"
   ]
  },
  {
   "cell_type": "code",
   "execution_count": 42,
   "id": "77788b26",
   "metadata": {},
   "outputs": [
    {
     "data": {
      "text/html": [
       "<div>\n",
       "<style scoped>\n",
       "    .dataframe tbody tr th:only-of-type {\n",
       "        vertical-align: middle;\n",
       "    }\n",
       "\n",
       "    .dataframe tbody tr th {\n",
       "        vertical-align: top;\n",
       "    }\n",
       "\n",
       "    .dataframe thead th {\n",
       "        text-align: right;\n",
       "    }\n",
       "</style>\n",
       "<table border=\"1\" class=\"dataframe\">\n",
       "  <thead>\n",
       "    <tr style=\"text-align: right;\">\n",
       "      <th></th>\n",
       "      <th>age</th>\n",
       "      <th>fat</th>\n",
       "    </tr>\n",
       "  </thead>\n",
       "  <tbody>\n",
       "    <tr>\n",
       "      <th>age</th>\n",
       "      <td>1.00</td>\n",
       "      <td>0.66</td>\n",
       "    </tr>\n",
       "    <tr>\n",
       "      <th>fat</th>\n",
       "      <td>0.66</td>\n",
       "      <td>1.00</td>\n",
       "    </tr>\n",
       "  </tbody>\n",
       "</table>\n",
       "</div>"
      ],
      "text/plain": [
       "      age   fat\n",
       "age  1.00  0.66\n",
       "fat  0.66  1.00"
      ]
     },
     "execution_count": 42,
     "metadata": {},
     "output_type": "execute_result"
    }
   ],
   "source": [
    "# 3.2. Correlación\n",
    "# La tabla de datos tiene el método corr() para estimar la matriz de correlación entre las variables.\n",
    "# La correlación entre las variables es positiva e igual a 0.66\n",
    "composition.corr().round(2)"
   ]
  },
  {
   "cell_type": "code",
   "execution_count": 43,
   "id": "0daeb0f4",
   "metadata": {},
   "outputs": [
    {
     "data": {
      "image/png": "[encoded data removed]",
      "text/plain": [
       "<Figure size 700x500 with 3 Axes>"
      ]
     },
     "metadata": {},
     "output_type": "display_data"
    }
   ],
   "source": [
    "# 3.3. Graficando las variables\n",
    "import matplotlib.pyplot as plt\n",
    "import matplotlib.gridspec as gridspec\n",
    "from matplotlib.ticker import FormatStrFormatter\n",
    "\n",
    "# Se creará una red de tres gráficos, un gráfico de dispersión y dos histogramas uno para cada variable de la dispersión. \n",
    "plt.figure(figsize=(7,5))\n",
    "gspec = gridspec.GridSpec(3, 3)\n",
    "\n",
    "# Se definen tres sub gráficos (subplot)\n",
    "top_histogram = plt.subplot(gspec[0, 1:])\n",
    "side_histogram = plt.subplot(gspec[1:, 0])\n",
    "lower_right = plt.subplot(gspec[1:, 1:])\n",
    "\n",
    "# Los datos son graficados en cada subgrafico.\n",
    "# Subgráfico inferior a la derecha\n",
    "lower_right.scatter(composition.age,composition.fat,color='blue')\n",
    "lower_right.set(xticklabels=[])\n",
    "lower_right.tick_params(labelsize=10,length=0)\n",
    "lower_right.set_xlabel('Age',size=10)\n",
    "# Subgráfico superior\n",
    "top_histogram.hist(composition.age, bins=10,  density=True,color='#8A9A5B')\n",
    "top_histogram.tick_params(labelsize=10,length=0)\n",
    "# Subgráfico inferior a la izquierda\n",
    "side_histogram.hist(composition.fat, bins=10, orientation='horizontal',  density=True,color='#8A9A5B');\n",
    "side_histogram.set(yticks=[])\n",
    "side_histogram.set_ylabel('Fat percentage',size=10)\n",
    "side_histogram.tick_params(labelsize=10,length=0)\n",
    "# Se invierte el eje de las x's\n",
    "side_histogram.invert_xaxis()\n",
    "\n",
    "# Límites de los ejes\n",
    "for ax in [top_histogram, lower_right]:\n",
    "    ax.set_xlim(15, 70)\n",
    "for ax in [side_histogram, lower_right]:\n",
    "    ax.set_ylim(0, 50)\n",
    "for ax in [top_histogram]: \n",
    "    ax.yaxis.set_major_formatter(FormatStrFormatter('%.2f'))\n",
    "for ax in [side_histogram]: \n",
    "    ax.xaxis.set_major_formatter(FormatStrFormatter('%.2f'))"
   ]
  },
  {
   "cell_type": "markdown",
   "id": "82d84f39",
   "metadata": {},
   "source": [
    "### 4. Estimación de la regresión"
   ]
  },
  {
   "cell_type": "code",
   "execution_count": 44,
   "id": "eee64201",
   "metadata": {
    "scrolled": true
   },
   "outputs": [
    {
     "data": {
      "text/html": [
       "<table class=\"simpletable\">\n",
       "<caption>OLS Regression Results</caption>\n",
       "<tr>\n",
       "  <th>Dep. Variable:</th>           <td>fat</td>       <th>  R-squared:         </th> <td>   0.434</td>\n",
       "</tr>\n",
       "<tr>\n",
       "  <th>Model:</th>                   <td>OLS</td>       <th>  Adj. R-squared:    </th> <td>   0.409</td>\n",
       "</tr>\n",
       "<tr>\n",
       "  <th>Method:</th>             <td>Least Squares</td>  <th>  F-statistic:       </th> <td>   17.64</td>\n",
       "</tr>\n",
       "<tr>\n",
       "  <th>Date:</th>             <td>Thu, 01 Jun 2023</td> <th>  Prob (F-statistic):</th> <td>0.000342</td>\n",
       "</tr>\n",
       "<tr>\n",
       "  <th>Time:</th>                 <td>22:27:26</td>     <th>  Log-Likelihood:    </th> <td> -81.871</td>\n",
       "</tr>\n",
       "<tr>\n",
       "  <th>No. Observations:</th>      <td>    25</td>      <th>  AIC:               </th> <td>   167.7</td>\n",
       "</tr>\n",
       "<tr>\n",
       "  <th>Df Residuals:</th>          <td>    23</td>      <th>  BIC:               </th> <td>   170.2</td>\n",
       "</tr>\n",
       "<tr>\n",
       "  <th>Df Model:</th>              <td>     1</td>      <th>                     </th>     <td> </td>   \n",
       "</tr>\n",
       "<tr>\n",
       "  <th>Covariance Type:</th>      <td>nonrobust</td>    <th>                     </th>     <td> </td>   \n",
       "</tr>\n",
       "</table>\n",
       "<table class=\"simpletable\">\n",
       "<tr>\n",
       "      <td></td>         <th>coef</th>     <th>std err</th>      <th>t</th>      <th>P>|t|</th>  <th>[0.025</th>    <th>0.975]</th>  \n",
       "</tr>\n",
       "<tr>\n",
       "  <th>Intercept</th> <td>    7.8151</td> <td>    4.843</td> <td>    1.614</td> <td> 0.120</td> <td>   -2.203</td> <td>   17.833</td>\n",
       "</tr>\n",
       "<tr>\n",
       "  <th>age</th>       <td>    0.4349</td> <td>    0.104</td> <td>    4.200</td> <td> 0.000</td> <td>    0.221</td> <td>    0.649</td>\n",
       "</tr>\n",
       "</table>\n",
       "<table class=\"simpletable\">\n",
       "<tr>\n",
       "  <th>Omnibus:</th>       <td> 0.195</td> <th>  Durbin-Watson:     </th> <td>   2.129</td>\n",
       "</tr>\n",
       "<tr>\n",
       "  <th>Prob(Omnibus):</th> <td> 0.907</td> <th>  Jarque-Bera (JB):  </th> <td>   0.269</td>\n",
       "</tr>\n",
       "<tr>\n",
       "  <th>Skew:</th>          <td> 0.181</td> <th>  Prob(JB):          </th> <td>   0.874</td>\n",
       "</tr>\n",
       "<tr>\n",
       "  <th>Kurtosis:</th>      <td> 2.643</td> <th>  Cond. No.          </th> <td>    170.</td>\n",
       "</tr>\n",
       "</table><br/><br/>Notes:<br/>[1] Standard Errors assume that the covariance matrix of the errors is correctly specified."
      ],
      "text/plain": [
       "<class 'statsmodels.iolib.summary.Summary'>\n",
       "\"\"\"\n",
       "                            OLS Regression Results                            \n",
       "==============================================================================\n",
       "Dep. Variable:                    fat   R-squared:                       0.434\n",
       "Model:                            OLS   Adj. R-squared:                  0.409\n",
       "Method:                 Least Squares   F-statistic:                     17.64\n",
       "Date:                Thu, 01 Jun 2023   Prob (F-statistic):           0.000342\n",
       "Time:                        22:27:26   Log-Likelihood:                -81.871\n",
       "No. Observations:                  25   AIC:                             167.7\n",
       "Df Residuals:                      23   BIC:                             170.2\n",
       "Df Model:                           1                                         \n",
       "Covariance Type:            nonrobust                                         \n",
       "==============================================================================\n",
       "                 coef    std err          t      P>|t|      [0.025      0.975]\n",
       "------------------------------------------------------------------------------\n",
       "Intercept      7.8151      4.843      1.614      0.120      -2.203      17.833\n",
       "age            0.4349      0.104      4.200      0.000       0.221       0.649\n",
       "==============================================================================\n",
       "Omnibus:                        0.195   Durbin-Watson:                   2.129\n",
       "Prob(Omnibus):                  0.907   Jarque-Bera (JB):                0.269\n",
       "Skew:                           0.181   Prob(JB):                        0.874\n",
       "Kurtosis:                       2.643   Cond. No.                         170.\n",
       "==============================================================================\n",
       "\n",
       "Notes:\n",
       "[1] Standard Errors assume that the covariance matrix of the errors is correctly specified.\n",
       "\"\"\""
      ]
     },
     "execution_count": 44,
     "metadata": {},
     "output_type": "execute_result"
    }
   ],
   "source": [
    "from statsmodels.formula. api import ols\n",
    "# La función ols sirve para estimar una regresión con el método de minimos cuadrados ordinarios.\n",
    "reg = ols (\"fat~age\", composition).fit()\n",
    "reg.summary()"
   ]
  },
  {
   "cell_type": "markdown",
   "id": "a8fbb0fb",
   "metadata": {},
   "source": [
    "### 5. Prueba de heteroscedasticidad"
   ]
  },
  {
   "cell_type": "code",
   "execution_count": 45,
   "id": "5d89198e",
   "metadata": {},
   "outputs": [
    {
     "name": "stdout",
     "output_type": "stream",
     "text": [
      "{'Test Statistic': 2.9757423578048696, 'Test Statistic p-value': 0.22585294464677336, 'F-Statistic': 1.486232429153108, 'F-Test p-value': 0.24806984303103988}\n"
     ]
    }
   ],
   "source": [
    "# Prueba de White\n",
    "# La función het_white realiza la prueba de heteroscedasticidad \n",
    "# toma como argumentos los residuos y las variables explicativas.\n",
    "from statsmodels.stats.diagnostic import het_white\n",
    "white_test = het_white(reg.resid,  reg.model.exog)\n",
    "labels = ['Test Statistic', 'Test Statistic p-value', 'F-Statistic', 'F-Test p-value']\n",
    "print(dict(zip(labels, white_test)))"
   ]
  },
  {
   "cell_type": "code",
   "execution_count": 46,
   "id": "0e667258",
   "metadata": {},
   "outputs": [
    {
     "data": {
      "text/plain": [
       "Text(0.5, 1.0, 'Grasa frente a edad \\n Gráfico de dispersión')"
      ]
     },
     "execution_count": 46,
     "metadata": {},
     "output_type": "execute_result"
    },
    {
     "data": {
      "image/png": "[encoded data removed]",
      "text/plain": [
       "<Figure size 480x240 with 1 Axes>"
      ]
     },
     "metadata": {},
     "output_type": "display_data"
    }
   ],
   "source": [
    "import matplotlib.pyplot as plt\n",
    "# Gráfico de dispersión para un análisis de la heteroscedasticidad\n",
    "# Defino la figura\n",
    "plt.figure(figsize=(6, 3), dpi=80)\n",
    "# Gráfico la dispersión\n",
    "plt.scatter(composition.age,composition.fat,color='blue')\n",
    "ax=plt.gca()\n",
    "\n",
    "# Describo las etiquetas de los ejes\n",
    "ax.set_ylabel('Grasa corporal - porcentaje', color='green',size=14)\n",
    "ax.set_xlabel('Edad - años',color='green',size=14)\n",
    "\n",
    "# Remuevo los bordes del gráfico \n",
    "for spine in ax.spines:\n",
    "    ax.spines[spine].set_visible(False)\n",
    "    \n",
    "ax.tick_params(axis=u'both', which=u'both',length=0,colors='navy',labelsize=10)\n",
    "# Inserto el título\n",
    "ax.set_title('Grasa frente a edad \\n Gráfico de dispersión',color='green',size=14)"
   ]
  },
  {
   "cell_type": "code",
   "execution_count": 47,
   "id": "124d37ca",
   "metadata": {},
   "outputs": [
    {
     "data": {
      "text/plain": [
       "<Figure size 400x300 with 0 Axes>"
      ]
     },
     "metadata": {},
     "output_type": "display_data"
    },
    {
     "data": {
      "image/png": "[encoded data removed]",
      "text/plain": [
       "<Figure size 1000x250 with 1 Axes>"
      ]
     },
     "metadata": {},
     "output_type": "display_data"
    }
   ],
   "source": [
    "# Graficando la regresión\n",
    "\n",
    "import seaborn as sns\n",
    "import matplotlib.pyplot as plt\n",
    "\n",
    "# Defino la figura\n",
    "plt.figure(figsize=(4, 3))\n",
    "\n",
    "# Gráfico la regresión\n",
    "sns.lmplot (x='age', y='fat', data=composition, \n",
    "            fit_reg = True,\n",
    "            line_kws = {'color': 'green', \n",
    "                        'lw': 0.5},\n",
    "            height=2.5,aspect=4)\n",
    "# Remuevo los bordes\n",
    "plt.box(on=None)\n",
    "# Título\n",
    "plt.title ('Regresión lineal simple ',\n",
    "           fontsize=14)\n",
    "# Etiqueta del eje x\n",
    "plt.xlabel ('Edad - años',fontsize=14, \n",
    "            color='Green')\n",
    "# Etiqueta del eje y\n",
    "plt.ylabel ('Grasa corporal - porcentaje',\n",
    "            fontsize=14,color='Green')\n",
    "\n",
    "# Marcas de los ejes\n",
    "plt.yticks(fontsize=10)\n",
    "plt.xticks(fontsize=10)\n",
    "plt.tick_params(axis=u'both', \n",
    "                which=u'both',length=0)\n",
    "plt.show()"
   ]
  },
  {
   "cell_type": "markdown",
   "id": "ce3f2828",
   "metadata": {},
   "source": [
    "### 6. Pruebas de hipótesis"
   ]
  },
  {
   "cell_type": "code",
   "execution_count": 48,
   "id": "548f258f",
   "metadata": {},
   "outputs": [],
   "source": [
    "import numpy as np"
   ]
  },
  {
   "cell_type": "code",
   "execution_count": 49,
   "id": "228fcc0e",
   "metadata": {},
   "outputs": [
    {
     "name": "stdout",
     "output_type": "stream",
     "text": [
      "<F test: F=2.2296176266755827, p=0.14897952709135082, df_denom=23, df_num=1>\n"
     ]
    }
   ],
   "source": [
    "reg = ols (\"fat~age\",composition).fit()\n",
    "# print(reg.summary())\n",
    "# Prueba de hipótesis: el coeficiente del intercepto es igual al coeficiente del regresor de la variable age.\n",
    "f_test=reg.f_test(np.array([1,-1]))\n",
    "print(f_test)"
   ]
  },
  {
   "cell_type": "code",
   "execution_count": 50,
   "id": "bdc302da",
   "metadata": {},
   "outputs": [
    {
     "name": "stdout",
     "output_type": "stream",
     "text": [
      "<F test: F=2.2296176266755827, p=0.14897952709135082, df_denom=23, df_num=1>\n"
     ]
    }
   ],
   "source": [
    "# Prueba de hipótesis: el coeficiente del intercepto es igual al coeficiente del regresor de la variable age.\n",
    "f_test=reg.f_test('Intercept=age')\n",
    "print(f_test)"
   ]
  },
  {
   "cell_type": "code",
   "execution_count": 51,
   "id": "7bc7aee2",
   "metadata": {},
   "outputs": [
    {
     "name": "stdout",
     "output_type": "stream",
     "text": [
      "<F test: F=17.639155984461677, p=0.00034212019472290394, df_denom=23, df_num=1>\n"
     ]
    }
   ],
   "source": [
    "# Prueba de hipótesis: el coeficiente de la variable age es igual a cero.\n",
    "f_test=reg.f_test('age=0')\n",
    "print(f_test)"
   ]
  },
  {
   "cell_type": "code",
   "execution_count": 52,
   "id": "99de8004",
   "metadata": {},
   "outputs": [
    {
     "name": "stdout",
     "output_type": "stream",
     "text": [
      "<F test: F=93.57674843849614, p=8.926865139587362e-12, df_denom=23, df_num=2>\n"
     ]
    }
   ],
   "source": [
    "# Prueba de hipótesis: el coeficiente del intercepto es igual a 10 y el coeficiente de la variable age es igual a 0.\n",
    "f_test=reg.f_test('(age=0),(Intercept=10)')\n",
    "print(f_test)"
   ]
  },
  {
   "cell_type": "code",
   "execution_count": 53,
   "id": "f0e4058f",
   "metadata": {},
   "outputs": [
    {
     "name": "stdout",
     "output_type": "stream",
     "text": [
      "<F test: F=112.01584027412287, p=1.390639644501243e-12, df_denom=23, df_num=2>\n"
     ]
    }
   ],
   "source": [
    "# Prueba de hipótesis: el coeficiente del intercepto es igual al coeficiente de la variable age y esta igual a 1.\n",
    "f_test=reg.f_test('age=Intercept=1')\n",
    "print(f_test)"
   ]
  },
  {
   "cell_type": "code",
   "execution_count": 56,
   "id": "fa4bd0c8",
   "metadata": {},
   "outputs": [
    {
     "name": "stdout",
     "output_type": "stream",
     "text": [
      "Python implementation: CPython\n",
      "Python version       : 3.10.9\n",
      "IPython version      : 8.10.0\n",
      "\n",
      "pandas     : 1.5.3\n",
      "numpy      : 1.23.5\n",
      "seaborn    : 0.12.2\n",
      "pydataset  : 0.2.0\n",
      "matplotlib : 3.7.0\n",
      "watermark  : 2.4.2\n",
      "statsmodels: 0.13.5\n",
      "\n",
      "Compiler    : MSC v.1916 64 bit (AMD64)\n",
      "OS          : Windows\n",
      "Release     : 10\n",
      "Machine     : AMD64\n",
      "Processor   : Intel64 Family 6 Model 142 Stepping 10, GenuineIntel\n",
      "CPU cores   : 8\n",
      "Architecture: 64bit\n",
      "\n",
      "Last updated: Thu Jun 01 2023 22:36:29SA Pacific Standard Time\n",
      "\n"
     ]
    }
   ],
   "source": [
    "%load_ext watermark\n",
    "%watermark -v -m -p pandas,numpy,seaborn,pydataset,matplotlib,watermark,statsmodels\n",
    "%watermark -u -n -t -z"
   ]
  }
 ],
 "metadata": {
  "kernelspec": {
   "display_name": "Python 3 (ipykernel)",
   "language": "python",
   "name": "python3"
  },
  "language_info": {
   "codemirror_mode": {
    "name": "ipython",
    "version": 3
   },
   "file_extension": ".py",
   "mimetype": "text/x-python",
   "name": "python",
   "nbconvert_exporter": "python",
   "pygments_lexer": "ipython3",
   "version": "3.10.9"
  }
 },
 "nbformat": 4,
 "nbformat_minor": 5
}
